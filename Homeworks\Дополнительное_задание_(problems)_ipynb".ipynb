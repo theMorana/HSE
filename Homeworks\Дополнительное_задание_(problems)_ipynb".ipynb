{
  "nbformat": 4,
  "nbformat_minor": 0,
  "metadata": {
    "colab": {
      "provenance": [],
      "include_colab_link": true
    },
    "kernelspec": {
      "name": "python3",
      "display_name": "Python 3"
    },
    "language_info": {
      "name": "python"
    }
  },
  "cells": [
    {
      "cell_type": "markdown",
      "metadata": {
        "id": "view-in-github",
        "colab_type": "text"
      },
      "source": [
        "<a href=\"https://colab.research.google.com/github/theMorana/HSE/blob/main/Homeworks%5C%D0%94%D0%BE%D0%BF%D0%BE%D0%BB%D0%BD%D0%B8%D1%82%D0%B5%D0%BB%D1%8C%D0%BD%D0%BE%D0%B5_%D0%B7%D0%B0%D0%B4%D0%B0%D0%BD%D0%B8%D0%B5_(problems)_ipynb%22.ipynb\" target=\"_parent\"><img src=\"https://colab.research.google.com/assets/colab-badge.svg\" alt=\"Open In Colab\"/></a>"
      ]
    },
    {
      "cell_type": "markdown",
      "source": [
        "##### Регулярные выражения"
      ],
      "metadata": {
        "id": "0uajYxPS8NZf"
      }
    },
    {
      "cell_type": "code",
      "source": [
        "import re\n",
        "\n",
        "n = 0"
      ],
      "metadata": {
        "id": "UmaQS0jr8eoF"
      },
      "execution_count": 21,
      "outputs": []
    },
    {
      "cell_type": "code",
      "source": [
        "# 1. Напишите регулярное выражение для проверки email адреса\n",
        "#    Программа возвращает True/False в переменную result\n",
        "\n",
        "test_email = \"test@example.com\"\n",
        "\n",
        "pattern = r\"^[A-Za-z0-9._%+-]+@[A-Za-z0-9.-]+\\.[A-Za-z]{2,4}$\"\n",
        "result = bool(re.fullmatch(pattern, test_email))\n",
        "\n",
        "assert result == True, \"Email должен быть валидным\"\n",
        "n += 1\n",
        "print(f\"Решено правильно {n} задач из 18\")"
      ],
      "metadata": {
        "id": "QLXKvuDw8Nxh",
        "colab": {
          "base_uri": "https://localhost:8080/"
        },
        "outputId": "ccb5c67d-9acf-44e1-977c-96efe5b348de"
      },
      "execution_count": 22,
      "outputs": [
        {
          "output_type": "stream",
          "name": "stdout",
          "text": [
            "Решено правильно 1 задач из 18\n"
          ]
        }
      ]
    },
    {
      "cell_type": "code",
      "source": [
        "# 2. Найдите все числа в строке с помощью регулярных выражений\n",
        "#    Программа возвращает список чисел в переменную numbers\n",
        "\n",
        "text_with_numbers = \"У меня 5 яблок и 3 апельсина\"\n",
        "numbers = re.findall(r'[0-9]', text_with_numbers)\n",
        "\n",
        "assert numbers == ['5', '3'], f\"Найдены числа: {numbers}, ожидалось: ['5', '3']\"\n",
        "n += 1\n",
        "print(f\"Решено правильно {n} задач из 18\")"
      ],
      "metadata": {
        "id": "0MP-wE7t8gIc",
        "colab": {
          "base_uri": "https://localhost:8080/"
        },
        "outputId": "33fa5af0-3fc6-4947-c78b-1e126a80e413"
      },
      "execution_count": 23,
      "outputs": [
        {
          "output_type": "stream",
          "name": "stdout",
          "text": [
            "Решено правильно 2 задач из 18\n"
          ]
        }
      ]
    },
    {
      "cell_type": "code",
      "source": [
        "# 3. Замените все числа в тексте на букву 'X'\n",
        "#    Программа возвращает измененную строку в переменную result\n",
        "\n",
        "text_to_replace = \"У меня 5 яблок и 3 апельсина\"\n",
        "result = re.sub(r'[0-9]', \"X\", text_with_numbers)\n",
        "\n",
        "assert result == \"У меня X яблок и X апельсина\", f\"Результат: '{result}'\"\n",
        "n += 1\n",
        "print(f\"Решено правильно {n} задач из 18\")"
      ],
      "metadata": {
        "id": "ZaIAtG-k9CeT",
        "colab": {
          "base_uri": "https://localhost:8080/"
        },
        "outputId": "9530f997-3eff-4797-ff18-c05fa248703e"
      },
      "execution_count": 24,
      "outputs": [
        {
          "output_type": "stream",
          "name": "stdout",
          "text": [
            "Решено правильно 3 задач из 18\n"
          ]
        }
      ]
    },
    {
      "cell_type": "markdown",
      "source": [
        "##### Методы строк"
      ],
      "metadata": {
        "id": "S6NKmlZ29n69"
      }
    },
    {
      "cell_type": "code",
      "source": [
        "# 4. Выполните основные операции со строками\n",
        "#    Программа должна создать четыре переменные:\n",
        "#    upper_result, lower_result, length, words\n",
        "\n",
        "test_string = \"Hello World\"\n",
        "\n",
        "upper_result = test_string.upper()\n",
        "lower_result = test_string.lower()\n",
        "length = len(test_string)\n",
        "words = test_string.split(\" \")\n",
        "\n",
        "assert upper_result == \"HELLO WORLD\", \"upper() не работает\"\n",
        "assert lower_result == \"hello world\", \"lower() не работает\"\n",
        "assert length == 11, \"len() не работает\"\n",
        "assert words == [\"Hello\", \"World\"], \"split() не работает\"\n",
        "n += 1\n",
        "print(f\"Решено правильно {n} задач из 18\")"
      ],
      "metadata": {
        "id": "6bLVJ6vf9lq8",
        "colab": {
          "base_uri": "https://localhost:8080/"
        },
        "outputId": "0d8610c2-91e9-4bc8-f254-b458c4866453"
      },
      "execution_count": 25,
      "outputs": [
        {
          "output_type": "stream",
          "name": "stdout",
          "text": [
            "Решено правильно 4 задач из 18\n"
          ]
        }
      ]
    },
    {
      "cell_type": "code",
      "source": [
        "# 5. Получите указанные части строки с помощью срезов\n",
        "#    Программа должна создать две переменные:\n",
        "#    first_part, last_part\n",
        "\n",
        "text = \"Hello World\"\n",
        "\n",
        "first_part = text [:5]\n",
        "last_part = text [-5:]\n",
        "\n",
        "assert first_part == \"Hello\", f\"Первая часть: '{first_part}'\"\n",
        "assert last_part == \"World\", f\"Последняя часть: '{last_part}'\"\n",
        "n += 1\n",
        "print(f\"Решено правильно {n} задач из 18\")"
      ],
      "metadata": {
        "id": "6s5ro-iJ9tzr",
        "colab": {
          "base_uri": "https://localhost:8080/"
        },
        "outputId": "2d4fdea1-104c-49fd-8480-5af079685e0d"
      },
      "execution_count": 26,
      "outputs": [
        {
          "output_type": "stream",
          "name": "stdout",
          "text": [
            "Решено правильно 5 задач из 18\n"
          ]
        }
      ]
    },
    {
      "cell_type": "code",
      "source": [
        "# 6. Создайте строку с использованием f-строк\n",
        "#    Программа должна создать строку в переменную formatted_string\n",
        "\n",
        "name = \"Alice\"\n",
        "age = 25\n",
        "formatted_string = f'Меня зовут {name} и мне {age} лет'\n",
        "\n",
        "assert formatted_string == \"Меня зовут Alice и мне 25 лет\", f\"Результат: '{formatted_string}'\"\n",
        "n += 1\n",
        "print(f\"Решено правильно {n} задач из 18\")"
      ],
      "metadata": {
        "id": "BHP09K8j9v00",
        "colab": {
          "base_uri": "https://localhost:8080/"
        },
        "outputId": "1bf62647-f054-448f-dfc9-2dca60d02cbe"
      },
      "execution_count": 27,
      "outputs": [
        {
          "output_type": "stream",
          "name": "stdout",
          "text": [
            "Решено правильно 6 задач из 18\n"
          ]
        }
      ]
    },
    {
      "cell_type": "markdown",
      "source": [
        "##### Арифметические операции"
      ],
      "metadata": {
        "id": "wZ6IdpFU9y12"
      }
    },
    {
      "cell_type": "code",
      "source": [
        "# 7. Выполните основные арифметические операции\n",
        "#    Программа должна создать семь переменных:\n",
        "#    addition для сложения чисел и 3\n",
        "#    subtraction для вычитания 4 из 10\n",
        "#    multiplication для деления 15 на 3\n",
        "#    division для деления 15 на 3\n",
        "#    floor_division для целочисленного деления 15 на 3\n",
        "#    modulo для получения остатка от деления 7 на 3\n",
        "#    exponent для возведения 2 в степень числа 3\n",
        "\n",
        "addition = 5 + 3\n",
        "subtraction = 10 - 4\n",
        "multiplication = 4 * 3\n",
        "division = 15 / 3\n",
        "floor_division = 15 // 3\n",
        "modulo = 7 % 3\n",
        "exponent = 2 ** 3\n",
        "\n",
        "assert addition == 8, \"Сложение не работает\"\n",
        "assert subtraction == 6, \"Вычитание не работает\"\n",
        "assert multiplication == 12, \"Умножение не работает\"\n",
        "assert division == 5.0, \"Деление не работает\"\n",
        "assert floor_division == 5, \"Целочисленное деление не работает\"\n",
        "assert modulo == 1, \"Остаток от деления не работает\"\n",
        "assert exponent == 8, \"Возведение в степень не работает\"\n",
        "n += 1\n",
        "print(f\"Решено правильно {n} задач из 18\")"
      ],
      "metadata": {
        "id": "iG9Umi4_90vF",
        "colab": {
          "base_uri": "https://localhost:8080/"
        },
        "outputId": "2cd724af-b7cd-492e-e137-c73f6858cde0"
      },
      "execution_count": 28,
      "outputs": [
        {
          "output_type": "stream",
          "name": "stdout",
          "text": [
            "Решено правильно 7 задач из 18\n"
          ]
        }
      ]
    },
    {
      "cell_type": "code",
      "source": [
        "# 8. Продемонстрируйте работу приоритет операций с использованием скобок:\n",
        "#    Сложите 2 с результатом умножения 3 и 4.\n",
        "#    Затем сложите 2 и 3, умножив результат на 4.\n",
        "#    Программа должна создать две переменные: result1, result2\n",
        "\n",
        "result1 = 2 + (3 * 4)\n",
        "result2 = ( 2 + 3) * 4\n",
        "\n",
        "assert result1 == 14, f\"Результат1: {result1}\"\n",
        "assert result2 == 20, f\"Результат2: {result2}\"\n",
        "n += 1\n",
        "print(f\"Решено правильно {n} задач из 18\")"
      ],
      "metadata": {
        "id": "v2u_cmi8-Xdv",
        "colab": {
          "base_uri": "https://localhost:8080/"
        },
        "outputId": "26db09f6-2e21-4415-cbc4-c66c888621c4"
      },
      "execution_count": 29,
      "outputs": [
        {
          "output_type": "stream",
          "name": "stdout",
          "text": [
            "Решено правильно 8 задач из 18\n"
          ]
        }
      ]
    },
    {
      "cell_type": "markdown",
      "source": [
        "##### Типы данных"
      ],
      "metadata": {
        "id": "aCF2TUnR_aA2"
      }
    },
    {
      "cell_type": "code",
      "source": [
        "# 9. Определите типы следующих значений: 5, 3.14,\n",
        "#    \"text\", [1, 2, 3], True.\n",
        "#    Программа должна создать пять переменных:\n",
        "#    type_int, type_float, type_str, type_list, type_bool\n",
        "\n",
        "type_int = type(5)\n",
        "type_float = type(3.14)\n",
        "type_str = type(\"text\")\n",
        "type_list = type([1, 2, 3])\n",
        "type_bool = type(True)\n",
        "\n",
        "assert type_int == int, \"Целые числа не распознаны\"\n",
        "assert type_float == float, \"Дробные числа не распознаны\"\n",
        "assert type_str == str, \"Строки не распознаны\"\n",
        "assert type_list == list, \"Списки не распознаны\"\n",
        "assert type_bool == bool, \"Булевы значения не распознаны\"\n",
        "n += 1\n",
        "print(f\"Решено правильно {n} задач из 18\")"
      ],
      "metadata": {
        "id": "r2fZX55l-2lX",
        "colab": {
          "base_uri": "https://localhost:8080/"
        },
        "outputId": "febf5a1b-4372-4824-e50a-f14962e05684"
      },
      "execution_count": 30,
      "outputs": [
        {
          "output_type": "stream",
          "name": "stdout",
          "text": [
            "Решено правильно 9 задач из 18\n"
          ]
        }
      ]
    },
    {
      "cell_type": "code",
      "source": [
        "# 10. Преобразуйте значения между типами:\n",
        "#     \"5\" к виду целого числа, 123 к виду строки, \"3.14\" к\n",
        "#     виду числа с плавающей точкой.\n",
        "#     Программа должна создать три переменные:\n",
        "#     str_to_int, int_to_str, str_to_float\n",
        "\n",
        "str_to_int = int(\"5\")\n",
        "int_to_str = str(123)\n",
        "str_to_float = float(\"3.14\")\n",
        "\n",
        "assert str_to_int == 5, \"Преобразование строки в int не работает\"\n",
        "assert int_to_str == \"123\", \"Преобразование int в строку не работает\"\n",
        "assert str_to_float == 3.14, \"Преобразование строки в float не работает\"\n",
        "n += 1\n",
        "print(f\"Решено правильно {n} задач из 18\")"
      ],
      "metadata": {
        "id": "Fo_n0KN1_Ft-",
        "colab": {
          "base_uri": "https://localhost:8080/"
        },
        "outputId": "3eb42e8e-eacd-49ed-ee47-6111b90c469b"
      },
      "execution_count": 31,
      "outputs": [
        {
          "output_type": "stream",
          "name": "stdout",
          "text": [
            "Решено правильно 10 задач из 18\n"
          ]
        }
      ]
    },
    {
      "cell_type": "markdown",
      "source": [
        "##### Присваивание переменных"
      ],
      "metadata": {
        "id": "yUcdnV8m_i4t"
      }
    },
    {
      "cell_type": "code",
      "source": [
        "# 11. Измените значение переменной\n",
        "#     Создайте переменную y со значением 15.\n",
        "#     Программа должна изменить значение переменной x на 15\n",
        "#     путем перезаписи значения переменной\n",
        "\n",
        "x = 10\n",
        "y = 15\n",
        "x = y\n",
        "\n",
        "assert x == 15, f\"x = {x}, ожидалось 15\"\n",
        "n += 1\n",
        "print(f\"Решено правильно {n} задач из 18\")"
      ],
      "metadata": {
        "id": "OZxKFMgZ_qnA",
        "colab": {
          "base_uri": "https://localhost:8080/"
        },
        "outputId": "51c3cc3a-9e24-4c5d-a4d8-f6ea5fca501c"
      },
      "execution_count": 32,
      "outputs": [
        {
          "output_type": "stream",
          "name": "stdout",
          "text": [
            "Решено правильно 11 задач из 18\n"
          ]
        }
      ]
    },
    {
      "cell_type": "code",
      "source": [
        "# 12. Создайте несколько переменных с числами 1, 2 и 3\n",
        "#     одной строкой кода.\n",
        "#     Программа должна создать три переменные: a, b, c\n",
        "\n",
        "a = 1\n",
        "b = 2\n",
        "c = 3\n",
        "\n",
        "assert a == 1 and b == 2 and c == 3, f\"a={a}, b={b}, c={c}\"\n",
        "n += 1\n",
        "print(f\"Решено правильно {n} задач из 18\")"
      ],
      "metadata": {
        "id": "46WarH___47A",
        "colab": {
          "base_uri": "https://localhost:8080/"
        },
        "outputId": "84cf756a-e581-4935-8ecb-c64a53d1fd99"
      },
      "execution_count": 33,
      "outputs": [
        {
          "output_type": "stream",
          "name": "stdout",
          "text": [
            "Решено правильно 12 задач из 18\n"
          ]
        }
      ]
    },
    {
      "cell_type": "markdown",
      "source": [
        "##### Логические операции"
      ],
      "metadata": {
        "id": "a8kNscYD___I"
      }
    },
    {
      "cell_type": "code",
      "source": [
        "# 13. Используйте операторы сравнения\n",
        "#     Программа должна создать шесть переменных для проверки\n",
        "#     работы логических выражений на примере чисел 5 и 3:\n",
        "#     greater, less, equal, not_equal, greater_equal, less_equal\n",
        "\n",
        "greater = 5 > 3\n",
        "less = 5 < 3\n",
        "equal = 5 == 5\n",
        "not_equal = (5 != 3)\n",
        "greater_equal = ( 5 >= 3)\n",
        "less_equal = (3 <= 5)\n",
        "\n",
        "assert greater == True, \"> не работает\"\n",
        "assert less == False, \"< не работает\"\n",
        "assert equal == True, \"== не работает\"\n",
        "assert not_equal == True, \"!= не работает\"\n",
        "assert greater_equal == True, \">= не работает\"\n",
        "assert less_equal == True, \"<= не работает\"\n",
        "n += 1\n",
        "print(f\"Решено правильно {n} задач из 18\")"
      ],
      "metadata": {
        "id": "MmNqlkt7AB-7",
        "colab": {
          "base_uri": "https://localhost:8080/"
        },
        "outputId": "12797bc0-4a7f-469f-aa87-c338e8456cbb"
      },
      "execution_count": 34,
      "outputs": [
        {
          "output_type": "stream",
          "name": "stdout",
          "text": [
            "Решено правильно 13 задач из 18\n"
          ]
        }
      ]
    },
    {
      "cell_type": "code",
      "source": [
        "# 14. Создайте сложное логическое выражение\n",
        "#     Программа должна создать переменную can_drive (если пользователь старше 18)\n",
        "\n",
        "age = 25\n",
        "has_license = True\n",
        "\n",
        "if age >= 18 and has_license:\n",
        "    can_drive = 1\n",
        "\n",
        "assert can_drive == True, f\"can_drive = {can_drive}\"\n",
        "n += 1\n",
        "print(f\"Решено правильно {n} задач из 18\")"
      ],
      "metadata": {
        "id": "oZVfTRf0Hh8g",
        "colab": {
          "base_uri": "https://localhost:8080/"
        },
        "outputId": "0740ddcb-a5c3-4e66-bff9-9cdfbab32747"
      },
      "execution_count": 35,
      "outputs": [
        {
          "output_type": "stream",
          "name": "stdout",
          "text": [
            "Решено правильно 14 задач из 18\n"
          ]
        }
      ]
    },
    {
      "cell_type": "markdown",
      "source": [
        "##### Индексация"
      ],
      "metadata": {
        "id": "Sdnrv8qqJRPX"
      }
    },
    {
      "cell_type": "code",
      "source": [
        "# 15. Индексация строк - получение первого, третьего и последнего символа слова по индексам\n",
        "#     Программа должна создать три переменные: first_char, third_char, last_char\n",
        "\n",
        "text = \"Python\"\n",
        "first_char = text[0]\n",
        "third_char = text [2]\n",
        "last_char = text[-1]\n",
        "\n",
        "assert first_char == \"P\", f\"first_char = '{first_char}', ожидалось 'P'\"\n",
        "assert third_char == \"t\", f\"third_char = '{third_char}', ожидалось 't'\"\n",
        "assert last_char == \"n\", f\"last_char = '{last_char}', ожидалось 'n'\"\n",
        "n += 1\n",
        "print(f\"Решено правильно {n} задач из 18\")"
      ],
      "metadata": {
        "id": "Z2jmExJJJTMb",
        "colab": {
          "base_uri": "https://localhost:8080/"
        },
        "outputId": "6fa66f85-cdb3-4e48-d23b-33ba70047c24"
      },
      "execution_count": 36,
      "outputs": [
        {
          "output_type": "stream",
          "name": "stdout",
          "text": [
            "Решено правильно 15 задач из 18\n"
          ]
        }
      ]
    },
    {
      "cell_type": "code",
      "source": [
        "# 16. Срезы строк - получение подстрок\n",
        "#     Программа должна создать три переменные:\n",
        "#     first_two (первые 2 символа), last_three (последние 3), middle (3 символа посередине: используйте отрицательное индексирование)\n",
        "\n",
        "text = \"Programming\"\n",
        "\n",
        "first_two = text[0:2]\n",
        "last_three = text[-3:]\n",
        "middle = text[3:-4]\n",
        "\n",
        "assert first_two == \"Pr\", f\"first_two = '{first_two}', ожидалось 'Pr'\"\n",
        "assert last_three == \"ing\", f\"last_three = '{last_three}', ожидалось 'ing'\"\n",
        "assert middle == \"gram\", f\"middle = '{middle}', ожидалось 'gram'\"\n",
        "n += 1\n",
        "print(f\"Решено правильно {n} задач из 18\")"
      ],
      "metadata": {
        "id": "crC5yyvDJdsa",
        "colab": {
          "base_uri": "https://localhost:8080/"
        },
        "outputId": "d5f174d8-a6e2-41f9-9a26-813da82a959f"
      },
      "execution_count": 37,
      "outputs": [
        {
          "output_type": "stream",
          "name": "stdout",
          "text": [
            "Решено правильно 16 задач из 18\n"
          ]
        }
      ]
    },
    {
      "cell_type": "code",
      "source": [
        "# 17. Индексация списков - доступ к элементам\n",
        "#     Программа должна создать три переменные:\n",
        "#     first_item (первый элемент списка), last_item (последний элемент списка), middle_item (центральный элемент)\n",
        "\n",
        "fruits = [\"apple\", \"banana\", \"orange\", \"grape\", \"kiwi\"]\n",
        "\n",
        "first_item = fruits[0]\n",
        "last_item = fruits[-1]\n",
        "middle_item = fruits[len(fruits)//2]\n",
        "\n",
        "assert first_item == \"apple\", f\"first_item = '{first_item}', ожидалось 'apple'\"\n",
        "assert last_item == \"kiwi\", f\"last_item = '{last_item}', ожидалось 'kiwi'\"\n",
        "assert middle_item == \"orange\", f\"middle_item = '{middle_item}', ожидалось 'orange'\"\n",
        "n += 1\n",
        "print(f\"Решено правильно {n} задач из 18\")"
      ],
      "metadata": {
        "id": "eeCZI9DqJvtQ",
        "colab": {
          "base_uri": "https://localhost:8080/"
        },
        "outputId": "f7c33ff4-2bf7-4832-b7b5-e9fd5d96d4f3"
      },
      "execution_count": 38,
      "outputs": [
        {
          "output_type": "stream",
          "name": "stdout",
          "text": [
            "Решено правильно 17 задач из 18\n"
          ]
        }
      ]
    },
    {
      "cell_type": "code",
      "source": [
        "# 18. Срезы списков - получение подсписков\n",
        "#     Программа должна создать три переменные:\n",
        "#     first_three (последние три элемента), last_two (первые два), middle_three (три посредине)\n",
        "\n",
        "numbers = [10, 20, 30, 40, 50, 60, 70]\n",
        "\n",
        "first_three = numbers[0:3]\n",
        "last_two = numbers[-2:]\n",
        "middle_three = numbers[2:5]\n",
        "\n",
        "assert first_three == [10, 20, 30], f\"first_three = {first_three}, ожидалось [10, 20, 30]\"\n",
        "assert last_two == [60, 70], f\"last_two = {last_two}, ожидалось [60, 70]\"\n",
        "assert middle_three == [30, 40, 50], f\"middle_three = {middle_three}, ожидалось [30, 40, 50]\"\n",
        "n += 1\n",
        "print(f\"Решено правильно {n} задач из 18\")"
      ],
      "metadata": {
        "id": "cX5orL6RJ6EF",
        "colab": {
          "base_uri": "https://localhost:8080/"
        },
        "outputId": "ae08957b-8f60-490d-9d15-58dcd3b4daaa"
      },
      "execution_count": 39,
      "outputs": [
        {
          "output_type": "stream",
          "name": "stdout",
          "text": [
            "Решено правильно 18 задач из 18\n"
          ]
        }
      ]
    }
  ]
}