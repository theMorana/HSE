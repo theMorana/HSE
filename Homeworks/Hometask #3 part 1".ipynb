{
  "cells": [
    {
      "cell_type": "markdown",
      "metadata": {
        "id": "view-in-github",
        "colab_type": "text"
      },
      "source": [
        "<a href=\"https://colab.research.google.com/github/theMorana/HSE/blob/main/Homeworks/Hometask%20%233%20part%201%22.ipynb\" target=\"_parent\"><img src=\"https://colab.research.google.com/assets/colab-badge.svg\" alt=\"Open In Colab\"/></a>"
      ]
    },
    {
      "cell_type": "markdown",
      "id": "23c0861f",
      "metadata": {
        "id": "23c0861f"
      },
      "source": [
        "# Введение в регулярные выражения (RegEx)"
      ]
    },
    {
      "cell_type": "markdown",
      "id": "192f493a",
      "metadata": {
        "id": "192f493a"
      },
      "source": [
        "## 1. Что такое регулярные выражения\n",
        "\n",
        "**Регулярные выражения (RegEx)** — это язык описания шаблонов для поиска и обработки текста.\n",
        "\n",
        "Они позволяют:\n",
        "- искать слова, числа, символы по шаблону;\n",
        "- извлекать нужные фрагменты текста;\n",
        "- заменять или очищать данные.\n",
        "\n",
        "В Python модуль для работы с RegEx называется **`re`**:\n",
        "\n",
        "```python\n",
        "import re\n",
        "```\n",
        "\n",
        "### Пример 1: простой поиск\n",
        "```python\n",
        "import re\n",
        "text = 'Мой email: ivanov@mail.ru'\n",
        "result = re.search('mail', text)\n",
        "if result:\n",
        "    print('Нашёл!')\n",
        "```"
      ]
    },
    {
      "cell_type": "markdown",
      "id": "fde085aa",
      "metadata": {
        "id": "fde085aa"
      },
      "source": [
        "## 2. Базовые символы и квантификаторы\n",
        "\n",
        "| Символ | Значение |\n",
        "|:-------|:----------|\n",
        "| `\\d` | Любая цифра (0–9) |\n",
        "| `\\w` | Любая буква, цифра или `_` |\n",
        "| `\\s` | Любой пробельный символ |\n",
        "| `.` | Любой символ |\n",
        "| `+` | Один или больше раз |\n",
        "| `*` | Ноль или больше раз |\n",
        "| `{n}` | Ровно `n` раз |\n",
        "| `{m,n}` | От `m` до `n` раз |\n",
        "\n",
        "> Шаблоны лучше писать как **сырые строки** — `r\"шаблон\"`, чтобы Python не интерпретировал обратные слэши."
      ]
    },
    {
      "cell_type": "markdown",
      "id": "9f063ebc",
      "metadata": {
        "id": "9f063ebc"
      },
      "source": [
        "## 3. Примеры шаблонов\n",
        "\n",
        "- `r\"\\d+\"` — последовательность из цифр (`42`, `2025`).\n",
        "- `r\"\\w+@\\w+\\.\\w+\"` — простой шаблон для email.\n",
        "- `r\"\\d{5}\"` — ровно 5 цифр подряд.\n",
        "- `r\"[A-Z][a-z]+\"` — слово с заглавной буквы."
      ]
    },
    {
      "cell_type": "markdown",
      "id": "8b63a63a",
      "metadata": {
        "id": "8b63a63a"
      },
      "source": [
        "**Пример задачи**\n",
        "\n",
        "В тексте найдите все цены (после слова *цена* или знака `$`)."
      ]
    },
    {
      "cell_type": "code",
      "execution_count": null,
      "id": "e2400e2b",
      "metadata": {
        "id": "e2400e2b",
        "colab": {
          "base_uri": "https://localhost:8080/"
        },
        "outputId": "2f093a23-5db7-4f75-8a31-2415da497f51"
      },
      "outputs": [
        {
          "output_type": "stream",
          "name": "stdout",
          "text": [
            "['29999', '1500', '499']\n"
          ]
        }
      ],
      "source": [
        "text = \"Смартфон цена 29999 руб. Ноутбук $1500. Книга всего 499 рублей.\"\n",
        "prices = re.findall(r\"\\d+\", text)\n",
        "print(prices)\n",
        "assert \"29999\" in prices and \"1500\" in prices and \"499\" in prices"
      ]
    },
    {
      "cell_type": "markdown",
      "id": "5076a2db",
      "metadata": {
        "id": "5076a2db"
      },
      "source": [
        "## 4. RegEx в задачах NLP\n",
        "\n",
        "Регулярные выражения часто применяются для:\n",
        "\n",
        "- **поиска сущностей** (email, номера телефонов, даты);\n",
        "- **очистки текста** (удаление HTML, лишних знаков);\n",
        "- **токенизации** (разделение текста на слова);\n",
        "- **извлечения информации** (например, из логов или анкет)."
      ]
    },
    {
      "cell_type": "markdown",
      "id": "02a67fb0",
      "metadata": {
        "id": "02a67fb0"
      },
      "source": [
        "**Пример**: очистка HTML-тегов\n",
        "Удалим все HTML-теги из текста с помощью шаблона `<[^>]+>`"
      ]
    },
    {
      "cell_type": "code",
      "execution_count": null,
      "id": "1af56307",
      "metadata": {
        "id": "1af56307",
        "colab": {
          "base_uri": "https://localhost:8080/"
        },
        "outputId": "fd133966-d548-40a3-eda5-a3d7dfb0c0b9"
      },
      "outputs": [
        {
          "output_type": "stream",
          "name": "stdout",
          "text": [
            "Привет, мир!\n"
          ]
        }
      ],
      "source": [
        "html_text = \"<div>Привет, <b>мир</b>!</div>\"\n",
        "clean = re.sub(r\"<[^>]+>\", \"\", html_text)\n",
        "print(clean)\n",
        "assert clean.strip() == \"Привет, мир!\""
      ]
    },
    {
      "cell_type": "markdown",
      "id": "6eec39d1",
      "metadata": {
        "id": "6eec39d1"
      },
      "source": [
        "**Пример задачи**\n",
        "\n",
        "Извлеките все email-адреса из текста лога."
      ]
    },
    {
      "cell_type": "code",
      "execution_count": null,
      "id": "daccc3ab",
      "metadata": {
        "id": "daccc3ab",
        "colab": {
          "base_uri": "https://localhost:8080/"
        },
        "outputId": "b002f951-3e82-4d6e-a555-362175b5ecaf"
      },
      "outputs": [
        {
          "output_type": "stream",
          "name": "stdout",
          "text": [
            "['ivanov_1990@domain.com', 'petrov-sergey@my-mail.org', 'support@company.com']\n"
          ]
        }
      ],
      "source": [
        "log_text = \"\"\"\n",
        "2024-05-20 10:00:00 [ERROR] User ivanov_1990@domain.com: Connection timeout\n",
        "2024-05-20 10:01:15 [INFO] User petrov-sergey@my-mail.org: Login successful\n",
        "2024-05-20 10:02:30 [WARN] User support@company.com: Password change required\n",
        "\"\"\"\n",
        "\n",
        "emails = re.findall(r\"\\b[\\w.-]+@[\\w.-]+\\.\\w+\\b\", log_text)\n",
        "print(emails)\n",
        "assert len(emails) == 3"
      ]
    },
    {
      "cell_type": "markdown",
      "id": "4368ece1",
      "metadata": {
        "id": "4368ece1"
      },
      "source": [
        "**Пример задачи**\n",
        "\n",
        "Извлеките номера телефонов в формате `+7 (XXX) XXX-XX-XX` или `8-XXX-XXX-XX-XX`."
      ]
    },
    {
      "cell_type": "code",
      "execution_count": null,
      "id": "3e4f932a",
      "metadata": {
        "id": "3e4f932a",
        "colab": {
          "base_uri": "https://localhost:8080/"
        },
        "outputId": "33029ff8-a051-4cc5-a58d-a9c9a33f7bad"
      },
      "outputs": [
        {
          "output_type": "stream",
          "name": "stdout",
          "text": [
            "['+7 (912) 345-67-89', '8-912-345-67-89', '89123456789']\n"
          ]
        }
      ],
      "source": [
        "sample = \"Контакты: +7 (912) 345-67-89, 8-912-345-67-89, старый формат 89123456789\"\n",
        "phones = re.findall(r\"(?:\\+7|8)[\\s\\-\\(]*\\d{3}[\\)\\s\\-]*\\d{3}[\\s\\-]*\\d{2}[\\s\\-]*\\d{2}\", sample)\n",
        "print(phones)\n",
        "assert len(phones) >= 2"
      ]
    },
    {
      "cell_type": "markdown",
      "id": "776da47b",
      "metadata": {
        "id": "776da47b"
      },
      "source": [
        "**Пример задачи**\n",
        "\n",
        "Извлеките все URL из строки."
      ]
    },
    {
      "cell_type": "code",
      "execution_count": null,
      "id": "8f82affd",
      "metadata": {
        "id": "8f82affd",
        "colab": {
          "base_uri": "https://localhost:8080/"
        },
        "outputId": "1b60572b-e2a5-422b-9a78-15029be562e4"
      },
      "outputs": [
        {
          "output_type": "stream",
          "name": "stdout",
          "text": [
            "['https://example.com', 'http://backup.org/test']\n"
          ]
        }
      ],
      "source": [
        "text = \"Наш сайт: https://example.com и резервный http://backup.org/test\"\n",
        "urls = re.findall(r\"https?://[\\w./-]+\", text)\n",
        "print(urls)\n",
        "assert \"https://example.com\" in urls and \"http://backup.org/test\" in urls"
      ]
    },
    {
      "cell_type": "markdown",
      "id": "99790639",
      "metadata": {
        "id": "99790639"
      },
      "source": [
        "**Пример задачи**\n",
        "\n",
        "Найдите даты формата `YYYY-MM-DD` или `DD.MM.YYYY`."
      ]
    },
    {
      "cell_type": "code",
      "execution_count": null,
      "id": "22a59c52",
      "metadata": {
        "id": "22a59c52",
        "colab": {
          "base_uri": "https://localhost:8080/"
        },
        "outputId": "007a6dc6-91c4-44bd-d81d-035fa16077b0"
      },
      "outputs": [
        {
          "output_type": "stream",
          "name": "stdout",
          "text": [
            "['2024-05-20', '13.10.2025']\n"
          ]
        }
      ],
      "source": [
        "dates_text = \"Встреча 2024-05-20 и отчёт 13.10.2025.\"\n",
        "dates = re.findall(r\"\\d{4}-\\d{2}-\\d{2}|\\d{2}\\.\\d{2}\\.\\d{4}\", dates_text)\n",
        "print(dates)\n",
        "assert \"2024-05-20\" in dates and \"13.10.2025\" in dates"
      ]
    },
    {
      "cell_type": "markdown",
      "id": "42a62246",
      "metadata": {
        "id": "42a62246"
      },
      "source": [
        "Темы, которые мы более подробно разберем на следующем занятии:\n",
        "- паттерны для поиска и обработки текста\n",
        "- `re.search`, `re.findall`, `re.sub`\n",
        "- регулярные выражения для задач NLP и очистки данных"
      ]
    }
  ],
  "metadata": {
    "colab": {
      "provenance": [],
      "include_colab_link": true
    },
    "language_info": {
      "name": "python"
    },
    "kernelspec": {
      "name": "python3",
      "display_name": "Python 3"
    }
  },
  "nbformat": 4,
  "nbformat_minor": 5
}