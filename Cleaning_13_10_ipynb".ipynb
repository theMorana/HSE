{
  "nbformat": 4,
  "nbformat_minor": 0,
  "metadata": {
    "colab": {
      "provenance": [],
      "include_colab_link": true
    },
    "kernelspec": {
      "name": "python3",
      "display_name": "Python 3"
    },
    "language_info": {
      "name": "python"
    }
  },
  "cells": [
    {
      "cell_type": "markdown",
      "metadata": {
        "id": "view-in-github",
        "colab_type": "text"
      },
      "source": [
        "<a href=\"https://colab.research.google.com/github/theMorana/HSE/blob/main/Cleaning_13_10_ipynb%22.ipynb\" target=\"_parent\"><img src=\"https://colab.research.google.com/assets/colab-badge.svg\" alt=\"Open In Colab\"/></a>"
      ]
    },
    {
      "cell_type": "markdown",
      "source": [
        "**Data Cleaning** (чистка данных) - этап предварительной обработки данных для анализа данных и машинного обучения.\n",
        "\n",
        "**Примеры Data Cleaning:**\n",
        "- удаление избыточных столбцов из табличных данных;\n",
        "- приведение текста к нижнему регистру;\n",
        "- чистка текста от HTML-артефактов\n",
        "\n",
        "Загрузим тренировочный датасет, почистим его и проанализируем результаты."
      ],
      "metadata": {
        "id": "Vl6M3rDU5XhG"
      }
    },
    {
      "cell_type": "markdown",
      "source": [
        "# Задание 1: Загрузка данных\n",
        "\n",
        "Загрузим тренировочный датасет и посмотрим на наши данные.\n",
        "\n",
        "Представим, что мы загрузили статью в формате HTML.\n",
        "\n",
        "Скачаем ее и выведем на экран первые 100 символов с помощью слайсинга (среза)."
      ],
      "metadata": {
        "id": "LK_zsNv26Tsk"
      }
    },
    {
      "cell_type": "code",
      "source": [
        "# загружаем тренировочные данные\n",
        "!wget https://raw.githubusercontent.com/vifirsanova/hse-python-course/main/data/data_cleaning.txt"
      ],
      "metadata": {
        "colab": {
          "base_uri": "https://localhost:8080/"
        },
        "id": "tbak8zIx8i6_",
        "outputId": "3f10dfc0-a46c-49fa-ed75-ccd554ee3584"
      },
      "execution_count": null,
      "outputs": [
        {
          "output_type": "stream",
          "name": "stdout",
          "text": [
            "--2025-10-19 16:27:14--  https://raw.githubusercontent.com/vifirsanova/hse-python-course/main/data/data_cleaning.txt\n",
            "Resolving raw.githubusercontent.com (raw.githubusercontent.com)... 185.199.109.133, 185.199.111.133, 185.199.108.133, ...\n",
            "Connecting to raw.githubusercontent.com (raw.githubusercontent.com)|185.199.109.133|:443... connected.\n",
            "HTTP request sent, awaiting response... 200 OK\n",
            "Length: 2377 (2.3K) [text/plain]\n",
            "Saving to: ‘data_cleaning.txt.1’\n",
            "\n",
            "\rdata_cleaning.txt.1   0%[                    ]       0  --.-KB/s               \rdata_cleaning.txt.1 100%[===================>]   2.32K  --.-KB/s    in 0s      \n",
            "\n",
            "2025-10-19 16:27:15 (34.6 MB/s) - ‘data_cleaning.txt.1’ saved [2377/2377]\n",
            "\n"
          ]
        }
      ]
    },
    {
      "cell_type": "code",
      "source": [
        "# запишем данные в переменную data\n",
        "with open('data_cleaning.txt', 'r') as f:\n",
        "  data = f.read()"
      ],
      "metadata": {
        "id": "OJ68oc8E8r9P"
      },
      "execution_count": null,
      "outputs": []
    },
    {
      "cell_type": "code",
      "source": [
        "# выведите на экран первые 100 символов с помощью слайсинга\n",
        "import re\n",
        "clean_text = re.sub(r'<[^>]+>', '', data)\n",
        "print(clean_text[:100])"
      ],
      "metadata": {
        "colab": {
          "base_uri": "https://localhost:8080/"
        },
        "id": "EZ9GtP8s86V8",
        "outputId": "0a1719dd-4bee-4bf8-c59d-e97ca40f4899"
      },
      "execution_count": null,
      "outputs": [
        {
          "output_type": "stream",
          "name": "stdout",
          "text": [
            "\n",
            "\n",
            "\n",
            "    Sample HTML Document\n",
            "\n",
            "\n",
            "    Welcome to Data Cleaning\n",
            "    This is a sample paragraph with HTML \n"
          ]
        }
      ]
    },
    {
      "cell_type": "markdown",
      "source": [
        "# Задание 2: Удаление артефактов\n",
        "\n",
        "В данных много артефактов - HTML-тегов.\n",
        "\n",
        "Удалим HTML-артефакты с помощью регулярных выражений RegEx"
      ],
      "metadata": {
        "id": "XIGQ9xGQ6t1U"
      }
    },
    {
      "cell_type": "code",
      "source": [
        "# пропишем паттерн для поиска HTML-тегов вида <tag> ... </tag>\n",
        "import re   # загрузим библиотеку для обработки регулярных выражений\n",
        "\n",
        "tag_pattern = r'<[^>]+>'    # паттерн для поиска тегов"
      ],
      "metadata": {
        "id": "aQ0ka1oq9uVz"
      },
      "execution_count": null,
      "outputs": []
    },
    {
      "cell_type": "markdown",
      "source": [
        "Используйте функцию `re.sub` (substitution) для чистки данных\n",
        "\n",
        "`re.sub` ищет в строке `string` соответствия RegEx-паттерну `pattern` и меняет найденное на указанную строку `repl`\n",
        "\n",
        "Как используем функцию: `re.sub(pattern, repl, string)`\n",
        "\n",
        "- `pattern` - паттерн RegEx, соответствия которому будет искать функция\n",
        "- `repl` - на что будем менять найденные соответствия\n",
        "- `string` - где будем искать, наш датасет\n",
        "\n",
        "Запишите результат в переменную `clean_text` и выведите на экран с 720-го по 800-ый символ очищенного текста\n",
        "\n",
        "Используйте слайсинг"
      ],
      "metadata": {
        "id": "h8oleHAo_UaY"
      }
    },
    {
      "cell_type": "code",
      "source": [
        "# Подсказки:\n",
        "# используйте паттерн, записанный в переменную tag_pattern\n",
        "# замените результат на пустую строку \"\"\n",
        "### ваш код здесь: примените re.sub ###\n",
        "clean_text = re.sub(tag_pattern, \"\",data)\n",
        "print(clean_text[720:800])\n",
        "### ваш код здесь: выведите результат с 720-го по 800-ый символ ###"
      ],
      "metadata": {
        "colab": {
          "base_uri": "https://localhost:8080/"
        },
        "id": "DjqjGi8P-H6O",
        "outputId": "9bb29bba-312f-45a1-c666-27acd11285b2"
      },
      "execution_count": null,
      "outputs": [
        {
          "output_type": "stream",
          "name": "stdout",
          "text": [
            " It's crucial to handle HTML entities such as &lt;div&gt;, &lt;p&gt;, &amp;, etc\n"
          ]
        }
      ]
    },
    {
      "cell_type": "markdown",
      "source": [
        "Мы удалили не все специальные символы HTML\n",
        "\n",
        "Создадим еще один паттерн и повторим процедуру"
      ],
      "metadata": {
        "id": "fZAWGBC7Ajr7"
      }
    },
    {
      "cell_type": "code",
      "source": [
        "symbols_pattern = r'&\\w+;'    # паттерн для поиска специальных символов"
      ],
      "metadata": {
        "id": "jIftruIgBuQj"
      },
      "execution_count": null,
      "outputs": []
    },
    {
      "cell_type": "markdown",
      "source": [
        "Используйте `re.sub` для удаления этих символов\n",
        "\n",
        "Теперь функция принимает на вход паттерн `symbols_pattern` и текст `clean_text`\n",
        "\n",
        "Перезапишите переменную `clean_text`\n",
        "\n",
        "Выведите на экран с 720-го по 800-ый символ, чтобы убедиться в том, что чистка прошла успешно"
      ],
      "metadata": {
        "id": "LJ19ehiFB5d6"
      }
    },
    {
      "cell_type": "code",
      "source": [
        "### ваш код здесь: примените re.sub ###\n",
        "clean_text = re.sub(symbols_pattern, \"\", clean_text)\n",
        "print(clean_text[720:800])\n",
        "### ваш код здесь: выведите результат с 720-го по 800-ый символ ###"
      ],
      "metadata": {
        "colab": {
          "base_uri": "https://localhost:8080/"
        },
        "id": "UsX39hWDCLR6",
        "outputId": "b9d7d8f6-a8a3-4d0e-eee3-bc6c003ddf02"
      },
      "execution_count": null,
      "outputs": [
        {
          "output_type": "stream",
          "name": "stdout",
          "text": [
            " It's crucial to handle HTML entities such as div, p, , etc. HTML entities are s\n"
          ]
        }
      ]
    },
    {
      "cell_type": "markdown",
      "source": [
        "В нашем тексте остались двойные пробелы\n",
        "\n",
        "Уберем им с помощью очередного паттерна"
      ],
      "metadata": {
        "id": "mP70Rf3oCKNZ"
      }
    },
    {
      "cell_type": "code",
      "source": [
        "# выведите на экран первые 100 символов вашего текущего результата\n",
        "print(clean_text[:100])\n",
        "pattern_2 = r'[\\n]'\n",
        "clean_text = re.sub(pattern_2, \"\", clean_text)\n",
        "print(clean_text[:100])\n",
        "# на этот раз не используйте print\n",
        "### ваш код здесь\n",
        "\n",
        "#\\n\\n\\n    Sample HTML Document\\n\\n\\n    Welcome to Data Cleaning\\n    This is a sample paragraph with HTML"
      ],
      "metadata": {
        "colab": {
          "base_uri": "https://localhost:8080/"
        },
        "id": "GMGJDpaEDHx5",
        "outputId": "33daf18a-9e78-43f6-87d8-e4fe11310a3f"
      },
      "execution_count": null,
      "outputs": [
        {
          "output_type": "stream",
          "name": "stdout",
          "text": [
            "    Sample HTML Document    Welcome to Data Cleaning    This is a sample paragraph with HTML artifac\n"
          ]
        }
      ]
    },
    {
      "cell_type": "markdown",
      "source": [
        "Создаем паттерн для поиска двойных пробелов\n",
        "\n",
        "Повторите процедуру, перезапишите результат в `clean_text` и выведите первые 100 символов\n",
        "\n",
        "Что мы запишем в переменную `repl`, чтобы не удалить абсолютно все пробелы?"
      ],
      "metadata": {
        "id": "GpgXBzMxDicX"
      }
    },
    {
      "cell_type": "code",
      "source": [
        "space_pattern = r'\\s+'\n",
        "repl = ' '\n",
        "clean_text = re.sub(space_pattern, repl, clean_text)\n",
        "print(clean_text[:100])"
      ],
      "metadata": {
        "colab": {
          "base_uri": "https://localhost:8080/"
        },
        "id": "aQ-ZqbEcDcIE",
        "outputId": "b694d6f2-993b-4751-9bd6-a79865104edb"
      },
      "execution_count": null,
      "outputs": [
        {
          "output_type": "stream",
          "name": "stdout",
          "text": [
            " Sample HTML Document Welcome to Data Cleaning This is a sample paragraph with HTML artifacts such a\n"
          ]
        }
      ]
    },
    {
      "cell_type": "markdown",
      "source": [
        "# Задание 3: Смена регистра\n",
        "\n",
        "Приведем все слова к нижнему регистру с помощью функции `lower`\n",
        "\n",
        "Запишем результат в переменную `text_lower` и выведем на экран последние 100 символов"
      ],
      "metadata": {
        "id": "Hwtj4l2x6bwS"
      }
    },
    {
      "cell_type": "code",
      "source": [
        "### ваш код здесь: примените lower к clean_text ###\n",
        "text_lower = clean_text.lower()\n",
        "print(text_lower[100:])\n",
        "### ваш код здесь: выведите первые 100 символов с конца, используйте слайсинг и не забудьте про - ###"
      ],
      "metadata": {
        "colab": {
          "base_uri": "https://localhost:8080/"
        },
        "id": "NbmH8JL0EPeg",
        "outputId": "29f6a1ba-8afc-41b5-acdb-a8341e50c5d8"
      },
      "execution_count": null,
      "outputs": [
        {
          "output_type": "stream",
          "name": "stdout",
          "text": [
            "s bold and italic text. data cleaning is an essential process in preparing data for analysis. it involves various techniques to clean, transform, and preprocess data. in data cleaning, it's important to remove stop words like \"the\", \"and\", \"of\", etc. stop words are common words that are often filtered out from text data because they do not carry significant meaning. here's another paragraph. sometimes text is in uppercase or lowercase. it's important to standardize the text case to ensure consistency in the dataset. this can be achieved by converting all text to lowercase or uppercase. it's crucial to handle html entities such as div, p, , etc. html entities are special characters or symbols that have specific meanings in html. they need to be properly handled to avoid issues during data processing. data cleaning also involves dealing with missing values. missing values can occur due to various reasons such as incomplete data collection or data entry errors. it's essential to identify and handle missing values appropriately to avoid bias in the analysis. text data often contains noise such as punctuation marks, special characters, and digits. removing noise from text data is necessary to focus on the meaningful content. techniques such as regular expressions can be used for noise removal. another important aspect of data cleaning is deduplication. duplicate records in a dataset can skew analysis results and lead to inaccurate conclusions. identifying and removing duplicate records ensures data integrity and improves the quality of analysis. after cleaning the data, it's essential to perform exploratory data analysis (eda) to gain insights and identify patterns. eda involves visualizing data, computing summary statistics, and exploring relationships between variables. once the data is cleaned and analyzed, it can be used for various purposes such as building machine learning models, making predictions, or generating insights to support decision-making processes.\n"
          ]
        }
      ]
    },
    {
      "cell_type": "markdown",
      "source": [
        "# Задание 4: Удаление стоп-слов\n",
        "\n",
        "Удалим частотные слова, которые создают шум для решения задач\n",
        "\n",
        "Загрузим список стоп-слов"
      ],
      "metadata": {
        "id": "vkxdtN1Q6mwU"
      }
    },
    {
      "cell_type": "code",
      "source": [
        "!wget https://raw.githubusercontent.com/vifirsanova/hse-python-course/main/data/stopwords.txt"
      ],
      "metadata": {
        "colab": {
          "base_uri": "https://localhost:8080/"
        },
        "id": "8ypsKpKBE6T-",
        "outputId": "7e67dc9d-dc8d-41c7-9f60-0b3289551db5"
      },
      "execution_count": null,
      "outputs": [
        {
          "output_type": "stream",
          "name": "stdout",
          "text": [
            "--2025-10-19 16:29:51--  https://raw.githubusercontent.com/vifirsanova/hse-python-course/main/data/stopwords.txt\n",
            "Resolving raw.githubusercontent.com (raw.githubusercontent.com)... 185.199.108.133, 185.199.111.133, 185.199.109.133, ...\n",
            "Connecting to raw.githubusercontent.com (raw.githubusercontent.com)|185.199.108.133|:443... connected.\n",
            "HTTP request sent, awaiting response... 200 OK\n",
            "Length: 954 [text/plain]\n",
            "Saving to: ‘stopwords.txt’\n",
            "\n",
            "\rstopwords.txt         0%[                    ]       0  --.-KB/s               \rstopwords.txt       100%[===================>]     954  --.-KB/s    in 0s      \n",
            "\n",
            "2025-10-19 16:29:51 (42.3 MB/s) - ‘stopwords.txt’ saved [954/954]\n",
            "\n"
          ]
        }
      ]
    },
    {
      "cell_type": "code",
      "source": [
        "# запишем данные в переменную stopwords\n",
        "with open('stopwords.txt', 'r') as f:\n",
        "  stopwords = f.read().split()"
      ],
      "metadata": {
        "id": "_c1xfdkgFNcg"
      },
      "execution_count": null,
      "outputs": []
    },
    {
      "cell_type": "markdown",
      "source": [
        "Выведите на экран первые 10 стоп-слов"
      ],
      "metadata": {
        "id": "nansznnrFVN-"
      }
    },
    {
      "cell_type": "code",
      "source": [
        "### ваш код здесь ###\n",
        "print(stopwords[:10])"
      ],
      "metadata": {
        "colab": {
          "base_uri": "https://localhost:8080/"
        },
        "id": "Pctau5NgFYJG",
        "outputId": "29688fbb-6e53-424f-ff42-84272154f087"
      },
      "execution_count": null,
      "outputs": [
        {
          "output_type": "stream",
          "name": "stdout",
          "text": [
            "['a', 'about', 'above', 'after', 'again', 'against', 'all', 'am', 'an', 'and']\n"
          ]
        }
      ]
    },
    {
      "cell_type": "markdown",
      "source": [
        "С помощью `random` мы можем \"вытянуть\" из списка стоп-слов случайное слово"
      ],
      "metadata": {
        "id": "7C4R5y63Fqrl"
      }
    },
    {
      "cell_type": "code",
      "source": [
        "import random\n",
        "random.choice(stopwords)"
      ],
      "metadata": {
        "colab": {
          "base_uri": "https://localhost:8080/",
          "height": 36
        },
        "id": "8SX-lcCAFjNc",
        "outputId": "57b8935c-435d-423a-ea0c-100179d6fc56"
      },
      "execution_count": null,
      "outputs": [
        {
          "output_type": "execute_result",
          "data": {
            "text/plain": [
              "'below'"
            ],
            "application/vnd.google.colaboratory.intrinsic+json": {
              "type": "string"
            }
          },
          "metadata": {},
          "execution_count": 103
        }
      ]
    },
    {
      "cell_type": "markdown",
      "source": [
        "\"Вытяните\" еще одно случайное слово и запишите его в переменную `random_word`"
      ],
      "metadata": {
        "id": "tPDPQYYTFwsM"
      }
    },
    {
      "cell_type": "code",
      "source": [
        "random_word = random.choice(stopwords)\n",
        "print(random_word)\n",
        "### ваш код здесь ###"
      ],
      "metadata": {
        "id": "oJkDb27LF75t",
        "colab": {
          "base_uri": "https://localhost:8080/"
        },
        "outputId": "52f3eae6-a836-49d1-d683-914292f074ad"
      },
      "execution_count": null,
      "outputs": [
        {
          "output_type": "stream",
          "name": "stdout",
          "text": [
            "over\n"
          ]
        }
      ]
    },
    {
      "cell_type": "markdown",
      "source": [
        "Проверьте, есть ли это слово в `text_lower` с помощью `in`\n",
        "\n",
        "Выведите на экран это слово"
      ],
      "metadata": {
        "id": "erv_tjszGZlo"
      }
    },
    {
      "cell_type": "code",
      "source": [
        "### ваш код здесь: вывод на экран текста \"Результат проверки:\" и проверки с in ###\n",
        "random_word = random.choice(stopwords)\n",
        "print(\"Результат проверки:\", random_word in text_lower)\n",
        "print(\"Случайное слово:\", random_word)\n",
        "### ваш код здесь: вывод текста \"Случайное слово:\" и random_word ###"
      ],
      "metadata": {
        "colab": {
          "base_uri": "https://localhost:8080/"
        },
        "id": "j2NJtaSOGBDT",
        "outputId": "7c63d122-d277-46f7-82d0-c205fbffb485"
      },
      "execution_count": null,
      "outputs": [
        {
          "output_type": "stream",
          "name": "stdout",
          "text": [
            "Результат проверки: False\n",
            "Случайное слово: i'll\n"
          ]
        }
      ]
    },
    {
      "cell_type": "markdown",
      "source": [
        "Попробуйте сгенерировать еще несколько слов и проверить их наличие в `text_lower`\n",
        "\n",
        "Для этого запустите повторно две последние ячейки"
      ],
      "metadata": {
        "id": "VBJJHLvrHCCO"
      }
    },
    {
      "cell_type": "code",
      "source": [
        "\"\"\"\n",
        "Вот так будет выглядеть текст после удаления стоп-слов _без_ токенизации\n",
        "Заменятся все аналогичные сочетания знаков\n",
        "Поэтому перед _удалением_ стоп-слов, проведем токенизацию\n",
        "\"\"\""
      ],
      "metadata": {
        "colab": {
          "base_uri": "https://localhost:8080/",
          "height": 53
        },
        "id": "gY7oeXTXGW0D",
        "outputId": "3cead3bd-2048-44c4-ca7f-99f1f3c4625e"
      },
      "execution_count": null,
      "outputs": [
        {
          "output_type": "execute_result",
          "data": {
            "text/plain": [
              "'\\nВот так будет выглядеть текст после удаления стоп-слов _без_ токенизации\\nЗаменятся все аналогичные сочетания знаков\\nПоэтому перед _удалением_ стоп-слов, проведем токенизацию\\n'"
            ],
            "application/vnd.google.colaboratory.intrinsic+json": {
              "type": "string"
            }
          },
          "metadata": {},
          "execution_count": 121
        }
      ]
    },
    {
      "cell_type": "markdown",
      "source": [
        "# Задание 5: Токенизация\n",
        "\n",
        "Токенизируем датасет для дальнейшей работы\n",
        "\n",
        "Создадим 2 набора токенов: с сегментацией по предложениям и с сегментацией по словам"
      ],
      "metadata": {
        "id": "Mepvb0Kw7Ncq"
      }
    },
    {
      "cell_type": "markdown",
      "source": [
        "Создайте переменную `sentences`\n",
        "\n",
        "С помощью `split` разделите текст на предложения (сегменты, разделенные знаком `.`)\n",
        "\n",
        "Выведите на экран первые 10 элементов `sentences`"
      ],
      "metadata": {
        "id": "Me63a7SNLa6C"
      }
    },
    {
      "cell_type": "code",
      "source": [
        "import re\n",
        "sentences = re.split(r'\\.', clean_text)\n",
        "print(sentences[:10])\n",
        "\n",
        "\n",
        "### ваш код здесь: split для сегментации по знаку `.` ###\n",
        "### вывод на экран первых 10 предложений ###"
      ],
      "metadata": {
        "colab": {
          "base_uri": "https://localhost:8080/"
        },
        "id": "8G13fM_27M1t",
        "outputId": "c0ed533b-b85c-4f68-db46-8bbdc6a17016"
      },
      "execution_count": null,
      "outputs": [
        {
          "output_type": "stream",
          "name": "stdout",
          "text": [
            "[' Sample HTML Document Welcome to Data Cleaning This is a sample paragraph with HTML artifacts such as bold and italic text', ' Data cleaning is an essential process in preparing data for analysis', ' It involves various techniques to clean, transform, and preprocess data', ' In data cleaning, it\\'s important to remove stop words like \"the\", \"and\", \"of\", etc', ' Stop words are common words that are often filtered out from text data because they do not carry significant meaning', \" Here's another paragraph\", ' Sometimes text is in UPPERCASE or lowercase', \" It's important to standardize the text case to ensure consistency in the dataset\", ' This can be achieved by converting all text to lowercase or uppercase', \" It's crucial to handle HTML entities such as div, p, , etc\"]\n"
          ]
        }
      ]
    },
    {
      "cell_type": "markdown",
      "source": [
        "Создайте переменную `tokens`\n",
        "\n",
        "С помощью `split` разделите текст `text_lower` на слова\n",
        "\n",
        "Выведите первые 10 элементов"
      ],
      "metadata": {
        "id": "6J_C8cq0L2rB"
      }
    },
    {
      "cell_type": "code",
      "source": [
        "tokens = re.split(r'\\s+', text_lower)\n",
        "print(tokens[:10])\n",
        "### ваш код здесь: split для сегментации по пробелу ###\n",
        "### ваш код здесь: вывод на экран первых 10 слов ###"
      ],
      "metadata": {
        "colab": {
          "base_uri": "https://localhost:8080/"
        },
        "id": "Rj3dXh576a5A",
        "outputId": "4bb52bbb-efa5-41aa-9b42-0555128afa38"
      },
      "execution_count": null,
      "outputs": [
        {
          "output_type": "stream",
          "name": "stdout",
          "text": [
            "['', 'sample', 'html', 'document', 'welcome', 'to', 'data', 'cleaning', 'this', 'is']\n"
          ]
        }
      ]
    },
    {
      "cell_type": "markdown",
      "source": [
        " Удалим стоп-слова"
      ],
      "metadata": {
        "id": "5Q7FfNK9MJ_K"
      }
    },
    {
      "cell_type": "code",
      "source": [
        "clean_tokens = []\n",
        "\n",
        "for token in tokens:  # итерация по списку токенов tokens\n",
        "  if token not in stopwords:  # проверяем отсутствие токена в списке стоп-слов\n",
        "    clean_tokens.append(token)  # добавляем токен в новый очищенный список токенов, если его нет в стоп-слова\n",
        "### ваш код здесь: вывод на экран первых 10 элементов clean_tokens ###\n",
        "print(clean_tokens[:10])"
      ],
      "metadata": {
        "colab": {
          "base_uri": "https://localhost:8080/"
        },
        "id": "QMy-_DNJ0HF3",
        "outputId": "56a13e50-3baa-49ce-d93f-b03d364e642f"
      },
      "execution_count": null,
      "outputs": [
        {
          "output_type": "stream",
          "name": "stdout",
          "text": [
            "['', 'sample', 'html', 'document', 'welcome', 'data', 'cleaning', 'sample', 'paragraph', 'html']\n"
          ]
        }
      ]
    },
    {
      "cell_type": "markdown",
      "source": [
        "# И еще одно задание...\n",
        "\n",
        "В ячейке ниже вы сможете загрузить еще один текст\n",
        "\n",
        "Используйте свой код и код из задания, чтобы\n",
        "\n",
        "1. удалить артефакты (html-теги, специальные символы и двойные пробелы)\n",
        "\n",
        "2. привести текст к нижнему регистру\n",
        "\n",
        "3. токенизировать текст по предложениям\n",
        "\n",
        "4. токенизировать текст по словам\n",
        "\n",
        "5. удалить стоп-слова"
      ],
      "metadata": {
        "id": "0EYfMpHZNUkA"
      }
    },
    {
      "cell_type": "code",
      "source": [
        "!wget https://raw.githubusercontent.com/vifirsanova/hse-python-course/main/extracurricular/artefacts.txt"
      ],
      "metadata": {
        "colab": {
          "base_uri": "https://localhost:8080/"
        },
        "id": "qE6b-OKsNqK_",
        "outputId": "01079f19-93ce-4c7f-f5bf-f3037a11faef"
      },
      "execution_count": null,
      "outputs": [
        {
          "output_type": "stream",
          "name": "stdout",
          "text": [
            "--2025-10-19 17:08:32--  https://raw.githubusercontent.com/vifirsanova/hse-python-course/main/extracurricular/artefacts.txt\n",
            "Resolving raw.githubusercontent.com (raw.githubusercontent.com)... 185.199.108.133, 185.199.109.133, 185.199.110.133, ...\n",
            "Connecting to raw.githubusercontent.com (raw.githubusercontent.com)|185.199.108.133|:443... connected.\n",
            "HTTP request sent, awaiting response... 200 OK\n",
            "Length: 845 [text/plain]\n",
            "Saving to: ‘artefacts.txt.2’\n",
            "\n",
            "\rartefacts.txt.2       0%[                    ]       0  --.-KB/s               \rartefacts.txt.2     100%[===================>]     845  --.-KB/s    in 0s      \n",
            "\n",
            "2025-10-19 17:08:32 (46.4 MB/s) - ‘artefacts.txt.2’ saved [845/845]\n",
            "\n"
          ]
        }
      ]
    },
    {
      "cell_type": "code",
      "source": [
        "# запишем данные в переменную artefacts\n",
        "with open('artefacts.txt', 'r') as f:\n",
        "  artefacts = f.read()\n",
        "\n",
        "  import re\n",
        "clean_text = re.sub(r'<[^>]+>', '', artefacts)\n",
        "print(clean_text[:100])\n",
        "\n",
        "tag_pattern = r'<[^>]+>'\n",
        "clean_text = re.sub(tag_pattern, \"\",artefacts)\n",
        "\n",
        "symbols_pattern = r'&\\w+;'\n",
        "clean_text = re.sub(symbols_pattern, \"\", clean_text)\n",
        "print(clean_text[720:800])\n",
        "\n",
        "\n",
        "patter_new_string = r'[\\n]'\n",
        "clean_text = re.sub(patter_new_string, \"\", clean_text)\n",
        "\n",
        "space_pattern = r'\\s+'\n",
        "repl = ' '\n",
        "clean_text = re.sub(space_pattern, repl, clean_text)\n",
        "\n",
        "\n",
        "text_lower = clean_text.lower()\n",
        "print(text_lower[100:])\n",
        "\n",
        "\n",
        "\n",
        "#tokenization\n",
        "import re\n",
        "sentences = re.split(r'\\.', clean_text)\n",
        "print(sentences[:10])\n",
        "\n",
        "tokens = re.split(r'\\s+', text_lower)\n",
        "clean_tokens = []\n",
        "\n",
        "for token in tokens:  # итерация по списку токенов tokens\n",
        "  if token not in stopwords:  # проверяем отсутствие токена в списке стоп-слов\n",
        "    clean_tokens.append(token)  # добавляем токен в новый очищенный список токенов, если его нет в стоп-слова\n",
        "### ваш код здесь: вывод на экран первых 10 элементов clean_tokens ###\n",
        "print(clean_tokens[:10])"
      ],
      "metadata": {
        "id": "CT7eVLpHOMTQ",
        "colab": {
          "base_uri": "https://localhost:8080/"
        },
        "outputId": "24bc6fee-7d4f-45f4-dfce-ccb0a4983443"
      },
      "execution_count": null,
      "outputs": [
        {
          "output_type": "stream",
          "name": "stdout",
          "text": [
            "\n",
            "\n",
            "\n",
            "    Sample Web Page\n",
            "\n",
            "\n",
            "    Welcome to Our Website\n",
            "    This is some sample text on our website. You\n",
            "\n",
            "at info@example.com. latest news breaking news: important announcement lorem ipsum dolor sit amet, consectetur adipiscing elit. vivamus lacinia, arcu in fermentum tincidunt. 2023 our website. all rights reserved. | privacy policy | contact us console.log('this is some javascript content that runs in the browser.'); \n",
            "[' Sample Web Page Welcome to Our Website This is some sample text on our website', ' You can contact us at info@example', 'com', ' Latest News Breaking News: Important Announcement Lorem ipsum dolor sit amet, consectetur adipiscing elit', ' Vivamus lacinia, arcu in fermentum tincidunt', ' 2023 Our Website', ' All rights reserved', ' | Privacy Policy | Contact Us console', \"log('This is some JavaScript content that runs in the browser\", \"'); \"]\n",
            "['', 'sample', 'web', 'page', 'welcome', 'website', 'sample', 'text', 'website.', 'can']\n"
          ]
        }
      ]
    },
    {
      "cell_type": "code",
      "source": [
        "### ваш код в ячейках ниже ###"
      ],
      "metadata": {
        "id": "9g-geUOsORlM"
      },
      "execution_count": null,
      "outputs": []
    }
  ]
}